{
 "cells": [
  {
   "cell_type": "markdown",
   "metadata": {},
   "source": [
    "# Pig Latin\n",
    "Pig latin is not actually a language but a language game that children use to speak in code.\n",
    "They are formed by altering words in english."
   ]
  },
  {
   "cell_type": "code",
   "execution_count": 5,
   "metadata": {},
   "outputs": [
    {
     "name": "stdout",
     "output_type": "stream",
     "text": [
      "Enter string to encode into pig latin language\n",
      "sanika\n",
      "anikasay\n"
     ]
    }
   ],
   "source": [
    "print(\"Enter string to encode into pig latin language\")\n",
    "input_string = input()\n",
    "vowels = ['a','e','i','o','u'];\n",
    "for i in range(0,len(input_string)):\n",
    "    if input_string[i] in vowels:\n",
    "        j = i;\n",
    "        break;\n",
    "s2 = input_string[slice(j)] + 'a' + 'y';\n",
    "\n",
    "s3 = input_string[slice(j,len(input_string))] + s2\n",
    "print(s3)\n"
   ]
  }
 ],
 "metadata": {
  "kernelspec": {
   "display_name": "Python 3",
   "language": "python",
   "name": "python3"
  },
  "language_info": {
   "codemirror_mode": {
    "name": "ipython",
    "version": 3
   },
   "file_extension": ".py",
   "mimetype": "text/x-python",
   "name": "python",
   "nbconvert_exporter": "python",
   "pygments_lexer": "ipython3",
   "version": "3.7.6"
  }
 },
 "nbformat": 4,
 "nbformat_minor": 4
}
